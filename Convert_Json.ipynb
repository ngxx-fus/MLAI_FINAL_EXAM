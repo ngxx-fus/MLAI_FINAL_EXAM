{
 "cells": [
  {
   "cell_type": "code",
   "execution_count": 2,
   "metadata": {},
   "outputs": [],
   "source": [
    "import json, os\n",
    "import numpy as np\n",
    "import cv2 \n",
    "import matplotlib as plt\n",
    "from PIL import Image"
   ]
  },
  {
   "cell_type": "code",
   "execution_count": 5,
   "metadata": {},
   "outputs": [
    {
     "name": "stdout",
     "output_type": "stream",
     "text": [
      "['stuttgart_00_000000_000001_leftImg8bit.json', 'stuttgart_00_000000_000002_leftImg8bit.json', 'stuttgart_00_000000_000003_leftImg8bit.json', 'stuttgart_00_000000_000004_leftImg8bit.json', 'stuttgart_00_000000_000005_leftImg8bit.json', 'stuttgart_00_000000_000006_leftImg8bit.json', 'stuttgart_00_000000_000007_leftImg8bit.json', 'stuttgart_00_000000_000008_leftImg8bit.json', 'stuttgart_00_000000_000009_leftImg8bit.json', 'stuttgart_00_000000_000010_leftImg8bit.json', 'stuttgart_00_000000_000011_leftImg8bit.json', 'stuttgart_00_000000_000012_leftImg8bit.json', 'stuttgart_00_000000_000013_leftImg8bit.json', 'stuttgart_00_000000_000014_leftImg8bit.json', 'stuttgart_00_000000_000015_leftImg8bit.json', 'stuttgart_00_000000_000022_leftImg8bit.json', 'stuttgart_00_000000_000027_leftImg8bit.json', 'stuttgart_00_000000_000033_leftImg8bit.json', 'stuttgart_00_000000_000038_leftImg8bit.json', 'stuttgart_00_000000_000045_leftImg8bit.json', 'stuttgart_00_000000_000051_leftImg8bit.json', 'stuttgart_00_000000_000056_leftImg8bit.json', 'stuttgart_00_000000_000062_leftImg8bit.json', 'stuttgart_00_000000_000068_leftImg8bit.json', 'stuttgart_00_000000_000074_leftImg8bit.json', 'stuttgart_00_000000_000080_leftImg8bit.json', 'stuttgart_00_000000_000085_leftImg8bit.json', 'stuttgart_00_000000_000089_leftImg8bit.json', 'stuttgart_00_000000_000093_leftImg8bit.json', 'stuttgart_00_000000_000097_leftImg8bit.json', 'stuttgart_00_000000_000102_leftImg8bit.json', 'stuttgart_00_000000_000107_leftImg8bit.json', 'stuttgart_00_000000_000114_leftImg8bit.json', 'stuttgart_00_000000_000125_leftImg8bit.json', 'stuttgart_00_000000_000156_leftImg8bit.json', 'stuttgart_00_000000_000163_leftImg8bit.json', 'stuttgart_00_000000_000169_leftImg8bit.json', 'stuttgart_00_000000_000178_leftImg8bit.json', 'stuttgart_00_000000_000186_leftImg8bit.json', 'stuttgart_00_000000_000193_leftImg8bit.json', 'stuttgart_00_000000_000205_leftImg8bit.json', 'stuttgart_00_000000_000217_leftImg8bit.json', 'stuttgart_00_000000_000220_leftImg8bit.json', 'stuttgart_00_000000_000223_leftImg8bit.json', 'stuttgart_00_000000_000228_leftImg8bit.json', 'stuttgart_00_000000_000234_leftImg8bit.json', 'stuttgart_00_000000_000236_leftImg8bit.json', 'stuttgart_00_000000_000239_leftImg8bit.json', 'stuttgart_00_000000_000247_leftImg8bit.json', 'stuttgart_00_000000_000254_leftImg8bit.json', 'stuttgart_01_000000_003500_leftImg8bit.json', 'stuttgart_01_000000_003544_leftImg8bit.json', 'stuttgart_01_000000_003597_leftImg8bit.json', 'stuttgart_01_000000_003664_leftImg8bit.json', 'stuttgart_01_000000_003741_leftImg8bit.json', 'stuttgart_01_000000_003834_leftImg8bit.json', 'stuttgart_01_000000_003902_leftImg8bit.json', 'stuttgart_01_000000_004034_leftImg8bit.json', 'stuttgart_01_000000_004142_leftImg8bit.json', 'stuttgart_01_000000_004155_leftImg8bit.json', 'stuttgart_01_000000_004253_leftImg8bit.json', 'stuttgart_01_000000_004385_leftImg8bit.json']\n"
     ]
    }
   ],
   "source": [
    "root_path        = r\".\"\n",
    "masks_path       = r\".\\MASK\"\n",
    "masks_review_path = r\".\\MASK_REVIEW\"\n",
    "json_files_path  = r\".\\JSON_LABELME\"\n",
    "json_files_list  = os.listdir(json_files_path)"
   ]
  },
  {
   "cell_type": "code",
   "execution_count": null,
   "metadata": {},
   "outputs": [],
   "source": [
    "for filename in json_files_list:\n",
    "    print(filename)"
   ]
  },
  {
   "cell_type": "code",
   "execution_count": 10,
   "metadata": {},
   "outputs": [
    {
     "name": "stdout",
     "output_type": "stream",
     "text": [
      "Mask image saved at:  .\\MASK\\stuttgart_00_000000_000220_leftImg8bit.png\n",
      "Mask review image saved at:  .\\MASK_REVIEW\\stuttgart_00_000000_000220_leftImg8bit.png\n",
      "Mask image saved at:  .\\MASK\\stuttgart_00_000000_000223_leftImg8bit.png\n",
      "Mask review image saved at:  .\\MASK_REVIEW\\stuttgart_00_000000_000223_leftImg8bit.png\n",
      "Mask image saved at:  .\\MASK\\stuttgart_00_000000_000228_leftImg8bit.png\n",
      "Mask review image saved at:  .\\MASK_REVIEW\\stuttgart_00_000000_000228_leftImg8bit.png\n",
      "Mask image saved at:  .\\MASK\\stuttgart_00_000000_000234_leftImg8bit.png\n",
      "Mask review image saved at:  .\\MASK_REVIEW\\stuttgart_00_000000_000234_leftImg8bit.png\n",
      "Mask image saved at:  .\\MASK\\stuttgart_00_000000_000236_leftImg8bit.png\n",
      "Mask review image saved at:  .\\MASK_REVIEW\\stuttgart_00_000000_000236_leftImg8bit.png\n",
      "Mask image saved at:  .\\MASK\\stuttgart_00_000000_000239_leftImg8bit.png\n",
      "Mask review image saved at:  .\\MASK_REVIEW\\stuttgart_00_000000_000239_leftImg8bit.png\n",
      "Mask image saved at:  .\\MASK\\stuttgart_00_000000_000247_leftImg8bit.png\n",
      "Mask review image saved at:  .\\MASK_REVIEW\\stuttgart_00_000000_000247_leftImg8bit.png\n",
      "Mask image saved at:  .\\MASK\\stuttgart_00_000000_000254_leftImg8bit.png\n",
      "Mask review image saved at:  .\\MASK_REVIEW\\stuttgart_00_000000_000254_leftImg8bit.png\n",
      "Mask image saved at:  .\\MASK\\stuttgart_01_000000_003500_leftImg8bit.png\n",
      "Mask review image saved at:  .\\MASK_REVIEW\\stuttgart_01_000000_003500_leftImg8bit.png\n",
      "Mask image saved at:  .\\MASK\\stuttgart_01_000000_003544_leftImg8bit.png\n",
      "Mask review image saved at:  .\\MASK_REVIEW\\stuttgart_01_000000_003544_leftImg8bit.png\n",
      "Mask image saved at:  .\\MASK\\stuttgart_01_000000_003597_leftImg8bit.png\n",
      "Mask review image saved at:  .\\MASK_REVIEW\\stuttgart_01_000000_003597_leftImg8bit.png\n",
      "Mask image saved at:  .\\MASK\\stuttgart_01_000000_003664_leftImg8bit.png\n",
      "Mask review image saved at:  .\\MASK_REVIEW\\stuttgart_01_000000_003664_leftImg8bit.png\n",
      "Mask image saved at:  .\\MASK\\stuttgart_01_000000_003741_leftImg8bit.png\n",
      "Mask review image saved at:  .\\MASK_REVIEW\\stuttgart_01_000000_003741_leftImg8bit.png\n",
      "Mask image saved at:  .\\MASK\\stuttgart_01_000000_003834_leftImg8bit.png\n",
      "Mask review image saved at:  .\\MASK_REVIEW\\stuttgart_01_000000_003834_leftImg8bit.png\n",
      "Mask image saved at:  .\\MASK\\stuttgart_01_000000_003902_leftImg8bit.png\n",
      "Mask review image saved at:  .\\MASK_REVIEW\\stuttgart_01_000000_003902_leftImg8bit.png\n",
      "Mask image saved at:  .\\MASK\\stuttgart_01_000000_004034_leftImg8bit.png\n",
      "Mask review image saved at:  .\\MASK_REVIEW\\stuttgart_01_000000_004034_leftImg8bit.png\n",
      "Mask image saved at:  .\\MASK\\stuttgart_01_000000_004142_leftImg8bit.png\n",
      "Mask review image saved at:  .\\MASK_REVIEW\\stuttgart_01_000000_004142_leftImg8bit.png\n",
      "Mask image saved at:  .\\MASK\\stuttgart_01_000000_004155_leftImg8bit.png\n",
      "Mask review image saved at:  .\\MASK_REVIEW\\stuttgart_01_000000_004155_leftImg8bit.png\n",
      "Mask image saved at:  .\\MASK\\stuttgart_01_000000_004253_leftImg8bit.png\n",
      "Mask review image saved at:  .\\MASK_REVIEW\\stuttgart_01_000000_004253_leftImg8bit.png\n",
      "Mask image saved at:  .\\MASK\\stuttgart_01_000000_004385_leftImg8bit.png\n",
      "Mask review image saved at:  .\\MASK_REVIEW\\stuttgart_01_000000_004385_leftImg8bit.png\n"
     ]
    }
   ],
   "source": [
    "height = 1024\n",
    "width = 2048\n",
    "\n",
    "Label_Class = {\n",
    "    \"void\" : 0,\n",
    "    \"DUONG_DI\" : 1,\n",
    "    \"LAN_HIEN_TAI\" : 2,\n",
    "    \"LAN_TRAI_0\" : 3,\n",
    "    \"LAN_PHAI_0\" : 4,\n",
    "    \"DUONG_CHUYEN_LAN\" : 5\n",
    "}\n",
    "\n",
    "for json_filename in json_files_list:\n",
    "    # for each json file in the folder, open it\n",
    "    with open(json_files_path + \"\\\\\" + json_filename) as json_file:\n",
    "        # load data in json file\n",
    "        json_data = json.load(json_file)\n",
    "        # the data contains multi label, just focus to \"shapes\"\n",
    "        labels_list = []\n",
    "        points_list = []  # aka contour : đường viền :)\n",
    "        for classes_of_object in json_data[\"shapes\"]:\n",
    "            # in the dict we have got - \"shapes\" also contain many labels\n",
    "            # we just need \"label\" and \"points\" \n",
    "            # to make a mask\n",
    "            my_label = classes_of_object[\"label\"]\n",
    "            my_points = classes_of_object[\"points\"]\n",
    "            # convert my_points from [[float, float], [float, float], ...] \n",
    "            # to [ (int, int), (int, int), ...] \n",
    "            # then to\n",
    "            # [ [int int]\n",
    "            #   [int int]\n",
    "            #   ...     \n",
    "            #   [int int] ]\n",
    "            my_new_points = []\n",
    "            # print(type(my_new_points))\n",
    "            # print(my_new_points)\n",
    "            for a_point in my_points:\n",
    "                x = int(a_point[0])\n",
    "                y = int(a_point[1])\n",
    "                my_new_points.append((x,y))\n",
    "            my_new_points = np.array(my_new_points)\n",
    "            # print(type(my_new_points))\n",
    "            # print(my_new_points)\n",
    "\n",
    "            \n",
    "            labels_list.append(my_label)\n",
    "            points_list.append(my_new_points)\n",
    "            # print(my_label)\n",
    "            # print(my_new_points)\n",
    "            # print(my_points)\n",
    "        # make a mask image with zeros\n",
    "        mask_img = np.zeros((height, width), dtype=np.uint8)\n",
    "        mask_review_img = np.zeros([height, width, 3], dtype=np.uint8)\n",
    "        # mask the image\n",
    "        # print(labels_list)\n",
    "        for ith_label in range(len(labels_list)):\n",
    "            # print(ith_label, labels_list[ith_label], Label_Class.get(labels_list[ith_label]))\n",
    "            for i in range(width):\n",
    "                for j in range(height):\n",
    "                    if cv2.pointPolygonTest(points_list[ith_label], (i, j), False) > 0:\n",
    "                        if Label_Class.get(labels_list[ith_label]) == 1:\n",
    "                            mask_review_img[j,i, 0] += 50\n",
    "                            mask_review_img[j,i, 1] += 50\n",
    "                            mask_review_img[j,i, 2] += 50\n",
    "                        if Label_Class.get(labels_list[ith_label]) == 2:\n",
    "                            mask_review_img[j,i,0] += 100\n",
    "                        if Label_Class.get(labels_list[ith_label]) == 3:\n",
    "                            mask_review_img[j,i,1] += 100\n",
    "                        if Label_Class.get(labels_list[ith_label]) == 4:\n",
    "                            mask_review_img[j,i,2] += 100\n",
    "                        mask_img[j, i] = Label_Class.get(labels_list[ith_label])\n",
    "\n",
    "        # save mask image\n",
    "        cv2.imwrite( masks_path + \"\\\\\" + json_filename.replace(\"json\", \"png\"), mask_img)\n",
    "        print(\"Mask image saved at: \", masks_path + \"\\\\\" + json_filename.replace(\"json\", \"png\"))\n",
    "        cv2.imwrite( masks_review_path + \"\\\\\" + json_filename.replace(\"json\", \"png\"), mask_review_img)\n",
    "        print(\"Mask review image saved at: \", masks_review_path + \"\\\\\" + json_filename.replace(\"json\", \"png\"))"
   ]
  },
  {
   "cell_type": "code",
   "execution_count": null,
   "metadata": {},
   "outputs": [],
   "source": []
  }
 ],
 "metadata": {
  "kernelspec": {
   "display_name": "python3dot8",
   "language": "python",
   "name": "python3"
  },
  "language_info": {
   "codemirror_mode": {
    "name": "ipython",
    "version": 3
   },
   "file_extension": ".py",
   "mimetype": "text/x-python",
   "name": "python",
   "nbconvert_exporter": "python",
   "pygments_lexer": "ipython3",
   "version": "3.8.19"
  }
 },
 "nbformat": 4,
 "nbformat_minor": 2
}
