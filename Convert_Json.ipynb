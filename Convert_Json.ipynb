{
 "cells": [
  {
   "cell_type": "code",
   "execution_count": 47,
   "metadata": {},
   "outputs": [],
   "source": [
    "import json, os\n",
    "import numpy as np\n",
    "import cv2 \n",
    "import matplotlib as plt"
   ]
  },
  {
   "cell_type": "code",
   "execution_count": 64,
   "metadata": {},
   "outputs": [],
   "source": [
    "root_path        = r\".\"\n",
    "masks_path       = r\".\\MASK\"\n",
    "json_files_path  = r\".\\JSON_LABELME\"\n",
    "json_files_list  = os.listdir(json_files_path)"
   ]
  },
  {
   "cell_type": "code",
   "execution_count": 61,
   "metadata": {},
   "outputs": [
    {
     "name": "stdout",
     "output_type": "stream",
     "text": [
      "['stuttgart_01_000000_003500_leftImg8bit.png', 'stuttgart_01_000000_003544_leftImg8bit.png', 'stuttgart_01_000000_003597_leftImg8bit.png', 'stuttgart_01_000000_003664_leftImg8bit.png', 'stuttgart_01_000000_003741_leftImg8bit.png', 'stuttgart_01_000000_003834_leftImg8bit.png', 'stuttgart_01_000000_003902_leftImg8bit.png', 'stuttgart_01_000000_004034_leftImg8bit.png', 'stuttgart_01_000000_004142_leftImg8bit.png', 'stuttgart_01_000000_004155_leftImg8bit.png', 'stuttgart_01_000000_004253_leftImg8bit.png', 'stuttgart_01_000000_004385_leftImg8bit.png']\n"
     ]
    }
   ],
   "source": [
    "mask_files_list  = []\n",
    "for filename in json_files_list:\n",
    "    mask_files_list.append(filename.replace(\"json\", \"png\"))\n",
    "print(mask_files_list)"
   ]
  },
  {
   "cell_type": "code",
   "execution_count": null,
   "metadata": {},
   "outputs": [],
   "source": [
    "height = 1024\n",
    "width = 2048\n",
    "\n",
    "Label_Class = {\n",
    "    \"void\" : 0,\n",
    "    \"DUONG_DI\" : 255\n",
    "}\n",
    "\n",
    "for json_filename in json_files_list:\n",
    "    # for each json file in the folder, open it\n",
    "    with open(json_files_path + \"\\\\\" + json_filename) as json_file:\n",
    "        # load data in json file\n",
    "        json_data = json.load(json_file)\n",
    "        # the data contains multi label, just focus to \"shapes\"\n",
    "        labels_list = []\n",
    "        points_list = []  # aka contour : đường viền :)\n",
    "        for classes_of_object in json_data[\"shapes\"]:\n",
    "            # in the dict we have got - \"shapes\" also contain many labels\n",
    "            # we just need \"label\" and \"points\" \n",
    "            # to make a mask\n",
    "            my_label = classes_of_object[\"label\"]\n",
    "            my_points = classes_of_object[\"points\"]\n",
    "            # convert my_points from [[float, float], [float, float], ...] \n",
    "            # to [ (int, int), (int, int), ...] \n",
    "            # then to\n",
    "            # [ [int int]\n",
    "            #   [int int]\n",
    "            #   ...     \n",
    "            #   [int int] ]\n",
    "            my_new_points = []\n",
    "            # print(type(my_new_points))\n",
    "            # print(my_new_points)\n",
    "            for a_point in my_points:\n",
    "                x = int(a_point[0])\n",
    "                y = int(a_point[1])\n",
    "                my_new_points.append((x,y))\n",
    "            my_new_points = np.array(my_new_points)\n",
    "            # print(type(my_new_points))\n",
    "            # print(my_new_points)\n",
    "\n",
    "            \n",
    "            labels_list.append(my_label)\n",
    "            points_list.append(my_new_points)\n",
    "            # print(my_label)\n",
    "            # print(my_new_points)\n",
    "            # print(my_points)\n",
    "        # make a mask image with zeros\n",
    "        # np.zeros((height, width), dtype=np.uint8)\n",
    "        mask_img = np.zeros((height, width), dtype=np.uint8)\n",
    "        # mask the image\n",
    "        for ith_label in range(len(labels_list)):\n",
    "            for i in range(width):\n",
    "                for j in range(height):\n",
    "                    if cv2.pointPolygonTest(points_list[ith_label], (i, j), False) > 0:\n",
    "                        mask_img[j, i] = Label_Class.get(labels_list[ith_label])\n",
    "\n",
    "        # save mask image\n",
    "        cv2.imwrite( masks_path + \"\\\\\" + json_filename.replace(\"json\", \"png\"), mask_img)"
   ]
  },
  {
   "cell_type": "code",
   "execution_count": null,
   "metadata": {},
   "outputs": [],
   "source": []
  }
 ],
 "metadata": {
  "kernelspec": {
   "display_name": "python3dot8",
   "language": "python",
   "name": "python3"
  },
  "language_info": {
   "codemirror_mode": {
    "name": "ipython",
    "version": 3
   },
   "file_extension": ".py",
   "mimetype": "text/x-python",
   "name": "python",
   "nbconvert_exporter": "python",
   "pygments_lexer": "ipython3",
   "version": "3.8.19"
  }
 },
 "nbformat": 4,
 "nbformat_minor": 2
}
